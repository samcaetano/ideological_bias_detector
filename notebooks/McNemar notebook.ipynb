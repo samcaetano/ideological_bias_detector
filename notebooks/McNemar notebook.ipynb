{
 "cells": [
  {
   "cell_type": "code",
   "execution_count": 21,
   "metadata": {},
   "outputs": [],
   "source": [
    "import json\n",
    "import numpy as np\n",
    "from statsmodels.stats.contingency_tables import mcnemar\n",
    "\n",
    "with open('json/govbr.baseline.bertabaporu-base.predictions.json') as f:\n",
    "    bertabaporu_predictions = json.load(f)\n",
    "\n",
    "with open('json/govbr.baseline.bertimbau-base.predictions.json') as f:\n",
    "    bertimbau_predictions = json.load(f)\n",
    "\n",
    "\n",
    "# Setup for McNemar calculation\n",
    "y_true = np.array(bertabaporu_predictions['references']) # This could be any 'references'\n",
    "\n",
    "y_pred_bertimbau = np.array(bertimbau_predictions['predictions'])\n",
    "y_pred_bertabaporu = np.array(bertabaporu_predictions['predictions'])"
   ]
  },
  {
   "cell_type": "code",
   "execution_count": 24,
   "metadata": {},
   "outputs": [
    {
     "data": {
      "text/plain": [
       "array([[353, 150],\n",
       "       [175, 124]])"
      ]
     },
     "execution_count": 24,
     "metadata": {},
     "output_type": "execute_result"
    }
   ],
   "source": [
    "ct = np.array([[0, 0], [0, 0]])\n",
    "for idx in range(802):\n",
    "    # model 1 and model 2 right\n",
    "    if y_true[idx] == y_pred_bertimbau[idx] and y_true[idx] == y_pred_bertabaporu[idx]:\n",
    "        ct[0, 0] += 1\n",
    "\n",
    "    # model 1 right, model 2 wrong\n",
    "    elif y_true[idx] == y_pred_bertimbau[idx] and y_true[idx] != y_pred_bertabaporu[idx]:\n",
    "        ct[0, 1] += 1\n",
    "\n",
    "    # model 2 right, model 1 wrong\n",
    "    elif y_true[idx] != y_pred_bertimbau[idx] and y_true[idx] == y_pred_bertabaporu[idx]:\n",
    "        ct[1, 0] += 1\n",
    "\n",
    "    # model 1 and model 2 wrong\n",
    "    else:\n",
    "        ct[1, 1] += 1\n",
    "\n",
    "ct"
   ]
  },
  {
   "cell_type": "code",
   "execution_count": 28,
   "metadata": {},
   "outputs": [
    {
     "name": "stdout",
     "output_type": "stream",
     "text": [
      "pvalue      0.16551785869746605\n",
      "statistic   1.9230769230769231\n"
     ]
    }
   ],
   "source": [
    "print(mcnemar(ct, exact=False, correction=False))"
   ]
  }
 ],
 "metadata": {
  "kernelspec": {
   "display_name": "Python 3.8.10 64-bit",
   "language": "python",
   "name": "python3"
  },
  "language_info": {
   "codemirror_mode": {
    "name": "ipython",
    "version": 3
   },
   "file_extension": ".py",
   "mimetype": "text/x-python",
   "name": "python",
   "nbconvert_exporter": "python",
   "pygments_lexer": "ipython3",
   "version": "3.8.10"
  },
  "orig_nbformat": 4,
  "vscode": {
   "interpreter": {
    "hash": "916dbcbb3f70747c44a77c7bcd40155683ae19c65e1c03b4aa3499c5328201f1"
   }
  }
 },
 "nbformat": 4,
 "nbformat_minor": 2
}
